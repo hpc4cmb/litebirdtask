{
 "cells": [
  {
   "cell_type": "markdown",
   "metadata": {
    "toc-hr-collapsed": false
   },
   "source": [
    "# Introduction\n",
    "\n",
    "This is a basic example of using TOAST interactively for LiteBIRD simulations.  This uses an extra package to help displaying things in the notebook.  You can install that with `pip install wurlitzer` and restart this notebook kernel."
   ]
  },
  {
   "cell_type": "code",
   "execution_count": null,
   "metadata": {},
   "outputs": [],
   "source": [
    "# Built-in modules\n",
    "import sys\n",
    "import os\n",
    "from datetime import datetime\n",
    "\n",
    "# External modules\n",
    "import numpy as np\n",
    "import matplotlib.pyplot as plt\n",
    "import astropy.units as u\n",
    "import healpy as hp\n",
    "\n",
    "# LiteBIRD and TOAST tools\n",
    "\n",
    "import toast\n",
    "import toast.ops\n",
    "from toast import schedule_sim_satellite as schedulesim\n",
    "from toast import pixels_io as pio\n",
    "\n",
    "import litebirdtask as lbt\n",
    "from litebirdtask import vis as lbtv\n",
    "from litebirdtask import ops as lbtops\n",
    "\n",
    "\n",
    "# Capture C++ output in the jupyter cells\n",
    "%load_ext wurlitzer\n",
    "\n",
    "# Display inline plots\n",
    "%matplotlib inline"
   ]
  },
  {
   "cell_type": "markdown",
   "metadata": {},
   "source": [
    "## Instrument Data\n",
    "\n",
    "Specify the location of the instrument / hardware file you downloaded from the wiki (See https://wiki.kek.jp/pages/viewpage.action?pageId=150667506)"
   ]
  },
  {
   "cell_type": "code",
   "execution_count": null,
   "metadata": {},
   "outputs": [],
   "source": [
    "hwfile = \"/home/kisner/git/litebird/litebird_model_2021-02-15T22:12:51.toml.gz\""
   ]
  },
  {
   "cell_type": "markdown",
   "metadata": {},
   "source": [
    "### Load the Hardware Model\n",
    "\n",
    "This loads the full instrument model:"
   ]
  },
  {
   "cell_type": "code",
   "execution_count": null,
   "metadata": {},
   "outputs": [],
   "source": [
    "hw = lbt.Hardware(path=hwfile)"
   ]
  },
  {
   "cell_type": "markdown",
   "metadata": {},
   "source": [
    "### Select Detectors\n",
    "\n",
    "The file you download from the wiki has **all** detectors.  For this example, we will select just a few of them."
   ]
  },
  {
   "cell_type": "code",
   "execution_count": null,
   "metadata": {},
   "outputs": [],
   "source": [
    "lfhw = hw.select(\n",
    "    match={\n",
    "        \"wafer\": [\"L00\",],\n",
    "        \"band\": \".*040\",\n",
    "        \"pixel\": \"00.\"\n",
    "    }\n",
    ")"
   ]
  },
  {
   "cell_type": "markdown",
   "metadata": {},
   "source": [
    "We can see which detectors were selected:"
   ]
  },
  {
   "cell_type": "code",
   "execution_count": null,
   "metadata": {},
   "outputs": [],
   "source": [
    "lbtv.summary_text(lfhw)"
   ]
  },
  {
   "cell_type": "markdown",
   "metadata": {},
   "source": [
    "## Observing Schedule\n",
    "\n",
    "Before running the simulation we need to create an \"observing schedule\".  This is a simple model of stable science scans separated by optional \"gaps\".  For this example we will make contiguous scans with no gaps.  Here we make a schedule for 1 day of observing, with one-hour stable science scans:"
   ]
  },
  {
   "cell_type": "code",
   "execution_count": null,
   "metadata": {},
   "outputs": [],
   "source": [
    "schedule = schedulesim.create_satellite_schedule(\n",
    "    prefix=\"LB_\",\n",
    "    mission_start=datetime.fromisoformat(\"2030-07-07T07:07:07+00:00\"),\n",
    "    observation_time=60 * u.minute,\n",
    "    gap_time=0 * u.minute,\n",
    "    num_observations=24, # 1 day x 24 obs per day\n",
    "    prec_period=3.2058 * u.hour, # From IMOv1 wiki page\n",
    "    spin_period=20 * u.minute, # From IMOv1 wiki, 0.05 RPM = 20 minutes\n",
    ")"
   ]
  },
  {
   "cell_type": "code",
   "execution_count": null,
   "metadata": {},
   "outputs": [],
   "source": [
    "print(schedule)"
   ]
  },
  {
   "cell_type": "markdown",
   "metadata": {},
   "source": [
    "We can also write / read this schedule to disk."
   ]
  },
  {
   "cell_type": "markdown",
   "metadata": {},
   "source": [
    "## Simulate the Scanning\n",
    "\n",
    "Next we are going to run a LiteBIRD scanning simulation.  We start with an empty TOAST data container:"
   ]
  },
  {
   "cell_type": "code",
   "execution_count": null,
   "metadata": {},
   "outputs": [],
   "source": [
    "data = toast.Data()\n",
    "print(data)"
   ]
  },
  {
   "cell_type": "markdown",
   "metadata": {},
   "source": [
    "Now we will create a LiteBIRD scanning \"Operator\" and apply it to the data.  We can always see the help for an operator before we use it:"
   ]
  },
  {
   "cell_type": "code",
   "execution_count": null,
   "metadata": {},
   "outputs": [],
   "source": [
    "# This will pop up a help window\n",
    "#?lbtops.SimScan"
   ]
  },
  {
   "cell_type": "code",
   "execution_count": null,
   "metadata": {
    "scrolled": false
   },
   "outputs": [],
   "source": [
    "# Create the operator\n",
    "\n",
    "sim_scan = lbtops.SimScan(\n",
    "    hardware=lfhw,\n",
    "    schedule=schedule,\n",
    "    hwp_angle=\"hwp_angle\",\n",
    "    hwp_rpm=46.0 # for LFT from IMOv1\n",
    ")\n",
    "\n",
    "# Print it to see all the current options.  You can change them anytime-\n",
    "# not just in the constructor.\n",
    "print(sim_scan)"
   ]
  },
  {
   "cell_type": "code",
   "execution_count": null,
   "metadata": {},
   "outputs": [],
   "source": [
    "# Apply it to simulate the scanning\n",
    "sim_scan.apply(data)\n",
    "\n",
    "# Print just the first observation, since there are many\n",
    "print(data.obs[0])"
   ]
  },
  {
   "cell_type": "markdown",
   "metadata": {},
   "source": [
    "### Memory Use\n",
    "\n",
    "We can always see how much memory our data container is using with a small helper operator:"
   ]
  },
  {
   "cell_type": "code",
   "execution_count": null,
   "metadata": {},
   "outputs": [],
   "source": [
    "mem_count = toast.ops.MemoryCounter()\n",
    "mem_count.apply(data)"
   ]
  },
  {
   "cell_type": "markdown",
   "metadata": {},
   "source": [
    "## Observation Data\n",
    "\n",
    "In the last cell you can see that the `Observation` has several \"shared\" data fields containing the pointing information and some other empty types of data \"detdata\" and \"intervals\".  We can just print these like a numpy array:"
   ]
  },
  {
   "cell_type": "code",
   "execution_count": null,
   "metadata": {},
   "outputs": [],
   "source": [
    "print(data.obs[0].shared[\"times\"])"
   ]
  },
  {
   "cell_type": "markdown",
   "metadata": {},
   "source": [
    "You can see that the \"shared\" data buffers are a special kind of array that (if MPI is being used) have only a single copy on each compute node.  You can access individual elements with normal slice notation, or you can get a numpy array view by accessing the `.data` attribute.  For example we can plot them:"
   ]
  },
  {
   "cell_type": "code",
   "execution_count": null,
   "metadata": {},
   "outputs": [],
   "source": [
    "# Plot HWP angle vs time for observation 7\n",
    "times = data.obs[7].shared[\"times\"]\n",
    "hwp = data.obs[7].shared[\"hwp_angle\"]\n",
    "\n",
    "fig = plt.figure()\n",
    "ax = fig.add_subplot(111)\n",
    "\n",
    "ax.plot(times.data[:100], hwp.data[:100])\n",
    "\n",
    "plt.show()"
   ]
  },
  {
   "cell_type": "markdown",
   "metadata": {},
   "source": [
    "The `Observation` class also gives us access to the focalplane properties for this observation:"
   ]
  },
  {
   "cell_type": "code",
   "execution_count": null,
   "metadata": {},
   "outputs": [],
   "source": [
    "# The telescope for this observation\n",
    "print(data.obs[0].telescope)"
   ]
  },
  {
   "cell_type": "code",
   "execution_count": null,
   "metadata": {},
   "outputs": [],
   "source": [
    "# The focalplane\n",
    "print(data.obs[0].telescope.focalplane)"
   ]
  },
  {
   "cell_type": "code",
   "execution_count": null,
   "metadata": {},
   "outputs": [],
   "source": [
    "# The Table of detector properties\n",
    "print(data.obs[0].telescope.focalplane.detector_data.info)\n",
    "print(data.obs[0].telescope.focalplane.detector_data)"
   ]
  },
  {
   "cell_type": "markdown",
   "metadata": {},
   "source": [
    "## Simulating Detector Signal\n",
    "\n",
    "As a quick test, we can simulate some timestream components.  First we simulate an orbital plus solarsystem dipole."
   ]
  },
  {
   "cell_type": "code",
   "execution_count": null,
   "metadata": {},
   "outputs": [],
   "source": [
    "sim_dipole = toast.ops.SimDipole(\n",
    "    freq=40.0 * u.GHz,\n",
    "    mode=\"solar\",\n",
    ")\n",
    "sim_dipole.apply(data)"
   ]
  },
  {
   "cell_type": "markdown",
   "metadata": {},
   "source": [
    "Now we can see what was created in the first observation:"
   ]
  },
  {
   "cell_type": "code",
   "execution_count": null,
   "metadata": {},
   "outputs": [],
   "source": [
    "print(data.obs[0])"
   ]
  },
  {
   "cell_type": "markdown",
   "metadata": {},
   "source": [
    "Notice that the \"detdata\" attribute now has an item called \"signal\", which has 12 detector timestreams.  The dipole timestream we simulated is in Kelvin, but let's work in\n",
    "uK instead.  We can modify the data in place:"
   ]
  },
  {
   "cell_type": "code",
   "execution_count": null,
   "metadata": {},
   "outputs": [],
   "source": [
    "for ob in data.obs:\n",
    "    ob.detdata[\"signal\"][:, :] *= 1e6"
   ]
  },
  {
   "cell_type": "markdown",
   "metadata": {},
   "source": [
    "Now we can simulate another component and accumulate that.  Before simulating some instrumental noise, we need to create a \"noise model\" which describes the noise properties of the detectors.  We could make this by hand with a mixing matrix that included correlations between detectors.  For now, we will use a small operator to just create the noise model from the nominal focalplane properties:"
   ]
  },
  {
   "cell_type": "code",
   "execution_count": null,
   "metadata": {},
   "outputs": [],
   "source": [
    "# Create an uncorrelated noise model from focalplane detector properties\n",
    "\n",
    "# (print help for this operator)\n",
    "#?toast.ops.DefaultNoiseModel"
   ]
  },
  {
   "cell_type": "code",
   "execution_count": null,
   "metadata": {},
   "outputs": [],
   "source": [
    "default_model = toast.ops.DefaultNoiseModel(\n",
    "    noise_model=\"noise_model\" # The string where this will be stored in every observation\n",
    ")\n",
    "default_model.apply(data)\n",
    "print(data.obs[0][\"noise_model\"])"
   ]
  },
  {
   "cell_type": "markdown",
   "metadata": {},
   "source": [
    "Next we create an operator that uses this noise model to simulate timestreams."
   ]
  },
  {
   "cell_type": "code",
   "execution_count": null,
   "metadata": {},
   "outputs": [],
   "source": [
    "# (print help for this operator)\n",
    "#?toast.ops.SimNoise"
   ]
  },
  {
   "cell_type": "code",
   "execution_count": null,
   "metadata": {},
   "outputs": [],
   "source": [
    "# Create it and specify the noise model to use and the detdata name of the output signal\n",
    "\n",
    "sim_noise = toast.ops.SimNoise(\n",
    "    noise_model=\"noise_model\",\n",
    ")\n",
    "sim_noise.apply(data)"
   ]
  },
  {
   "cell_type": "markdown",
   "metadata": {},
   "source": [
    "We can now dig deeper into the simulated fake detector signal so far:"
   ]
  },
  {
   "cell_type": "code",
   "execution_count": null,
   "metadata": {},
   "outputs": [],
   "source": [
    "print(data.obs[0].detdata[\"signal\"])"
   ]
  },
  {
   "cell_type": "markdown",
   "metadata": {},
   "source": [
    "This `DetectorData` object allows us to access the data by detector name, detector index, or sample range:"
   ]
  },
  {
   "cell_type": "code",
   "execution_count": null,
   "metadata": {},
   "outputs": [],
   "source": [
    "signal = data.obs[0].detdata[\"signal\"]"
   ]
  },
  {
   "cell_type": "code",
   "execution_count": null,
   "metadata": {},
   "outputs": [],
   "source": [
    "print(signal[\"L00_003_QA_040T\"])"
   ]
  },
  {
   "cell_type": "code",
   "execution_count": null,
   "metadata": {},
   "outputs": [],
   "source": [
    "print(signal[[\"L00_003_QA_040T\", \"L00_004_QB_040T\"], 0:4])"
   ]
  },
  {
   "cell_type": "code",
   "execution_count": null,
   "metadata": {},
   "outputs": [],
   "source": [
    "# The whole thing...\n",
    "print(signal[:, :])"
   ]
  },
  {
   "cell_type": "markdown",
   "metadata": {},
   "source": [
    "The `detdata` attribute of an observation contains just the local data on each process, so you can read and write to these arrays.  One can plot them using the shared timestamps as well:"
   ]
  },
  {
   "cell_type": "code",
   "execution_count": null,
   "metadata": {},
   "outputs": [],
   "source": [
    "times = data.obs[0].shared[\"times\"]\n",
    "\n",
    "fig = plt.figure()\n",
    "ax = fig.add_subplot(111)\n",
    "\n",
    "ax.plot(times.data, signal[\"L00_003_QA_040T\"])\n",
    "\n",
    "plt.show()"
   ]
  },
  {
   "cell_type": "markdown",
   "metadata": {},
   "source": [
    "## Other Operators\n",
    "\n",
    "You can piece together many other operators to add different types of signal and systematics, etc.  These can be covered in later notebooks."
   ]
  },
  {
   "cell_type": "markdown",
   "metadata": {},
   "source": [
    "## Map Making\n",
    "\n",
    "Here we show a simple example of mapmaking.  First, we need to create several operators that we will pass to the map maker (which will apply the operators internally).  We begin with the pointing information.  The low-level \"detector pointing\" operator maps telescope boresight quaternions to detector quaternions.  The \"pointing matrix\" has 2 parts, the sky pixels and the Stokes weights:"
   ]
  },
  {
   "cell_type": "code",
   "execution_count": null,
   "metadata": {},
   "outputs": [],
   "source": [
    "# The default detector pointing operator just takes the focalplane offset from\n",
    "# the boresight and applies it to boresight pointing\n",
    "\n",
    "det_pointing = toast.ops.PointingDetectorSimple()\n",
    "# Operator traits can be set in the constructor, or afterwards.  The default \"names\"\n",
    "# for the different objects in the Observation can be set per-experiment globally,\n",
    "# and we can also get the traits from earlier operators in the workflow and use\n",
    "# them in later ones:\n",
    "det_pointing.boresight = sim_scan.boresight\n",
    "\n",
    "# This operator defines the sky pixels\n",
    "pixels = toast.ops.PixelsHealpix(\n",
    "    nside=512,\n",
    "    detector_pointing=det_pointing\n",
    ")\n",
    "\n",
    "# These are the Stokes weights.  Notice we set some traits in the\n",
    "# constructor- we could also set these aftwards if we wanted.\n",
    "weights = toast.ops.StokesWeights(\n",
    "    mode=\"IQU\",\n",
    "    hwp_angle=sim_scan.hwp_angle,\n",
    "    detector_pointing=det_pointing\n",
    ")"
   ]
  },
  {
   "cell_type": "markdown",
   "metadata": {},
   "source": [
    "Next we need a \"binning\" operator that will be used during the template amplitude solving and also the final map binning.  The mapmaker accepts different binning operators for these two steps, but here we use the same one.\n",
    "\n",
    "Here we demonstrate a useful technique:  If you have a previous operator configured with particular traits (in this case the name of the noise model in the observations), you can access that and pass it to other operators."
   ]
  },
  {
   "cell_type": "code",
   "execution_count": null,
   "metadata": {},
   "outputs": [],
   "source": [
    "# Set up binning operator for solving and final map.  Again,\n",
    "# this is just creating the operator, not actually doing\n",
    "# anything yet.\n",
    "binner = toast.ops.BinMap(\n",
    "    pixel_pointing=pixels,\n",
    "    stokes_weights=weights,\n",
    "    noise_model=default_model.noise_model,\n",
    ")"
   ]
  },
  {
   "cell_type": "markdown",
   "metadata": {},
   "source": [
    "Now we set up the templates we will use in our map making.  In this case we will use a single template for offset amplitudes (destriping baselines).  After configuring our templates, we add them to a template matrix operator:"
   ]
  },
  {
   "cell_type": "code",
   "execution_count": null,
   "metadata": {},
   "outputs": [],
   "source": [
    "# Set up template matrix with just an offset template.\n",
    "\n",
    "tmpl = toast.templates.Offset(\n",
    "    times=sim_scan.times,\n",
    "    noise_model=default_model.noise_model,\n",
    "    step_time=5.0 * u.second,\n",
    ")\n",
    "tmatrix = toast.ops.TemplateMatrix(templates=[tmpl])"
   ]
  },
  {
   "cell_type": "markdown",
   "metadata": {},
   "source": [
    "### Low Memory Use\n",
    "\n",
    "Finally we are ready to create our Mapmaking operator and run it.  This will be **slow**, since by default we are not saving the pointing.  So every iteration of the solver we are re-generating the pixel number and Stokes weights for every sample, for every detector.  We are also doing this using a single process in this notebook."
   ]
  },
  {
   "cell_type": "code",
   "execution_count": null,
   "metadata": {
    "scrolled": false
   },
   "outputs": [],
   "source": [
    "# Map maker set up\n",
    "\n",
    "# Where the maps should be written\n",
    "output_dir = \".\"\n",
    "\n",
    "mapper = toast.ops.MapMaker(\n",
    "    name=\"mapmaker\", # This name will prefix all the output products.\n",
    "    det_data=\"signal\", # The name of the detector data we simulated\n",
    "    binning=binner,\n",
    "    template_matrix=tmatrix,\n",
    "    solve_rcond_threshold=1.0e-6,\n",
    "    map_rcond_threshold=1.0e-6,\n",
    "    iter_max=10,\n",
    "    output_dir=output_dir\n",
    ")\n",
    "\n",
    "# Make the map\n",
    "mapper.apply(data)"
   ]
  },
  {
   "cell_type": "markdown",
   "metadata": {},
   "source": [
    "Now we can read our outputs and plot them.  Note that our timestream has the dipole in it still, which we would normally use for calibration and remove. "
   ]
  },
  {
   "cell_type": "code",
   "execution_count": null,
   "metadata": {},
   "outputs": [],
   "source": [
    "mapfile_root = os.path.join(output_dir, mapper.name)\n",
    "\n",
    "hits = hp.read_map(\n",
    "    f\"{mapfile_root}_hits.fits\", \n",
    "    dtype=np.int32\n",
    ")\n",
    "hp.mollview(hits, min=0, max=500)\n",
    "\n",
    "Imap, Qmap, Umap = hp.read_map(\n",
    "    f\"{mapfile_root}_map.fits\", \n",
    "    field=None\n",
    ")\n",
    "hp.mollview(Imap, min=-0.0005, max=0.0005)\n",
    "hp.mollview(Qmap, min=-0.0005, max=0.0005)\n",
    "hp.mollview(Umap, min=-0.0005, max=0.0005)"
   ]
  },
  {
   "cell_type": "markdown",
   "metadata": {},
   "source": [
    "### Larger Memory Use and Faster\n",
    "\n",
    "If we have enough memory, we can compute the pointing once and save it.  Check how much memory we are using right now:"
   ]
  },
  {
   "cell_type": "code",
   "execution_count": null,
   "metadata": {},
   "outputs": [],
   "source": [
    "# Reset the counter first...\n",
    "mem_count.total_bytes = 0\n",
    "mem_count.apply(data)"
   ]
  },
  {
   "cell_type": "markdown",
   "metadata": {},
   "source": [
    "OK, now we can generate the pointing once for the whole dataset:"
   ]
  },
  {
   "cell_type": "code",
   "execution_count": null,
   "metadata": {},
   "outputs": [],
   "source": [
    "pixels.apply(data)\n",
    "weights.apply(data)"
   ]
  },
  {
   "cell_type": "code",
   "execution_count": null,
   "metadata": {},
   "outputs": [],
   "source": [
    "# Check memory use now\n",
    "mem_count.total_bytes = 0\n",
    "mem_count.apply(data)"
   ]
  },
  {
   "cell_type": "markdown",
   "metadata": {},
   "source": [
    "Now re-run the mapmaking and write the outputs to a different name:"
   ]
  },
  {
   "cell_type": "code",
   "execution_count": null,
   "metadata": {
    "scrolled": false
   },
   "outputs": [],
   "source": [
    "mapper.name = \"example2\"\n",
    "mapper.apply(data)"
   ]
  },
  {
   "cell_type": "markdown",
   "metadata": {},
   "source": [
    "So here we see that it runs much faster."
   ]
  },
  {
   "cell_type": "code",
   "execution_count": null,
   "metadata": {},
   "outputs": [],
   "source": []
  }
 ],
 "metadata": {
  "kernelspec": {
   "display_name": "Python 3 (ipykernel)",
   "language": "python",
   "name": "python3"
  },
  "language_info": {
   "codemirror_mode": {
    "name": "ipython",
    "version": 3
   },
   "file_extension": ".py",
   "mimetype": "text/x-python",
   "name": "python",
   "nbconvert_exporter": "python",
   "pygments_lexer": "ipython3",
   "version": "3.9.5"
  }
 },
 "nbformat": 4,
 "nbformat_minor": 4
}
