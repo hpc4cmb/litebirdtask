{
 "cells": [
  {
   "cell_type": "markdown",
   "metadata": {
    "toc-hr-collapsed": false
   },
   "source": [
    "# Introduction\n",
    "\n",
    "This is a basic example of using TOAST interactively for LiteBIRD simulations.  You can install the two packages with:"
   ]
  },
  {
   "cell_type": "code",
   "execution_count": null,
   "metadata": {},
   "outputs": [],
   "source": [
    "# ! pip install --pre toast\n",
    "# ! pip install https://github.com/hpc4cmb/litebirdtask/archive/main.zip"
   ]
  },
  {
   "cell_type": "markdown",
   "metadata": {
    "toc-hr-collapsed": false
   },
   "source": [
    "This notebook uses additional packages that can be installed with pip or conda depending on the tool you are using to manage your environment:"
   ]
  },
  {
   "cell_type": "code",
   "execution_count": null,
   "metadata": {},
   "outputs": [],
   "source": [
    "#! pip install wurlitzer ipywidgets plotly plotly-resampler"
   ]
  },
  {
   "cell_type": "markdown",
   "metadata": {},
   "source": [
    "Now import our modules:"
   ]
  },
  {
   "cell_type": "code",
   "execution_count": null,
   "metadata": {},
   "outputs": [],
   "source": [
    "# Built-in modules\n",
    "import sys\n",
    "import os\n",
    "from datetime import datetime\n",
    "import tempfile\n",
    "\n",
    "# External modules\n",
    "import numpy as np\n",
    "import matplotlib.pyplot as plt\n",
    "import astropy.units as u\n",
    "import healpy as hp\n",
    "\n",
    "# LiteBIRD and TOAST tools\n",
    "\n",
    "import toast\n",
    "import toast.ops\n",
    "from toast import pixels_io_healpix as pio\n",
    "import toast.widgets\n",
    "\n",
    "import litebirdtask as lbt\n",
    "from litebirdtask import vis as lbtv\n",
    "from litebirdtask import ops\n",
    "\n",
    "\n",
    "# Capture C++ output in the jupyter cells\n",
    "%load_ext wurlitzer\n",
    "\n",
    "# Display inline plots\n",
    "%matplotlib inline"
   ]
  },
  {
   "cell_type": "markdown",
   "metadata": {},
   "source": [
    "# Data Simulation\n",
    "\n",
    "We start by creating a simulated LiteBIRD observing campaign with a scan strategy based on the instrument model and a few other parameters.  We then simulate detector timestream components to produce a realistic data set for analysis."
   ]
  },
  {
   "cell_type": "markdown",
   "metadata": {},
   "source": [
    "## Instrument Model\n",
    "\n",
    "The rest of the notebook requires a local copy of the IMO.  This can be downloaded from the wiki (for example).  This file contains not only instrument parameters, but also default scanning parameters."
   ]
  },
  {
   "cell_type": "code",
   "execution_count": null,
   "metadata": {},
   "outputs": [],
   "source": [
    "imo_file = \"/home/kisner/data/litebird/IMoV2-14June.json\""
   ]
  },
  {
   "cell_type": "markdown",
   "metadata": {},
   "source": [
    "## Simulated Observing\n",
    "\n",
    "Next we are going to run a LiteBIRD scanning simulation.  We start with an empty TOAST data container.  For this notebook we are not using MPI, but MPI is supported both in standalone workflow scripts as well as notebooks using the MPI backend to ipyparallel.\n",
    "\n",
    "The `SimObserve` operator here selects detectors based on regular expressions matching the telescope, channel, and wafer names.  The length of a science observation is a free parameter, along with the number of observations to simulate (up to the mission length).  The gap length is obtained from the duty cycle in the IMO, along with all the scanning parameters."
   ]
  },
  {
   "cell_type": "code",
   "execution_count": null,
   "metadata": {},
   "outputs": [],
   "source": [
    "# Starting with empty Data container\n",
    "data = toast.Data()"
   ]
  },
  {
   "cell_type": "code",
   "execution_count": null,
   "metadata": {},
   "outputs": [],
   "source": [
    "# Get help about an operator\n",
    "?ops.SimObserve"
   ]
  },
  {
   "cell_type": "code",
   "execution_count": null,
   "metadata": {},
   "outputs": [],
   "source": [
    "# Simulate\n",
    "sim_obs = ops.SimObserve(\n",
    "    imo_file=imo_file,\n",
    "    select_telescope=\"LFT\",\n",
    "    select_channel=\"L1-040\",\n",
    "    select_wafer=None,\n",
    "    observation_time=60.0 * u.minute,\n",
    "    num_observation=24,\n",
    "    detset_key=\"pixel\",\n",
    ")\n",
    "sim_obs.apply(data)"
   ]
  },
  {
   "cell_type": "markdown",
   "metadata": {},
   "source": [
    "## Pointing Model\n",
    "\n",
    "Our pointing model consists of 3 pieces.  The first is the detector pointing operator which translates boresight quaternions to the detector frame, with the Z-axis of the detector frame pointed at the detector line of sight and the X-axis of the detector frame aligned with the polarization sensitive direction.  The second piece is an operator which computes the pixel indices given a detector's pointing on the sky.  The final piece is an operator which computes the Stokes weights for each detector sample.  In this example we are using default operators in TOAST, but could implement other operators specific to LiteBIRD (for example a more detailed HWP response).  We use a low resolution pixelization for this example."
   ]
  },
  {
   "cell_type": "code",
   "execution_count": null,
   "metadata": {},
   "outputs": [],
   "source": [
    "det_pntg = toast.ops.PointingDetectorSimple()\n",
    "\n",
    "det_pixels = toast.ops.PixelsHealpix(\n",
    "    nest=True,\n",
    "    nside=128,\n",
    "    detector_pointing=det_pntg,\n",
    ")\n",
    "\n",
    "det_weights = toast.ops.StokesWeights(\n",
    "    mode=\"IQU\",\n",
    "    detector_pointing=det_pntg,\n",
    "    hwp_angle=sim_obs.hwp_angle,\n",
    ")"
   ]
  },
  {
   "cell_type": "markdown",
   "metadata": {},
   "source": [
    "## Default Noise Model\n",
    "\n",
    "We will estimate the noise below, but we can also create a default noise model based purely on nominal detector values."
   ]
  },
  {
   "cell_type": "code",
   "execution_count": null,
   "metadata": {},
   "outputs": [],
   "source": [
    "default_model = toast.ops.DefaultNoiseModel()\n",
    "default_model.apply(data)"
   ]
  },
  {
   "cell_type": "markdown",
   "metadata": {},
   "source": [
    "## Simulated Timestream Components\n",
    "\n",
    "We can simulate a variety of detector data components."
   ]
  },
  {
   "cell_type": "markdown",
   "metadata": {},
   "source": [
    "### Dipole\n",
    "\n",
    "This will simulate the solar plus orbital dipole, but the orbit is not simulated yet within the `LitebirdSite` class, and so this will only include the motion of the Earth."
   ]
  },
  {
   "cell_type": "code",
   "execution_count": null,
   "metadata": {},
   "outputs": [],
   "source": [
    "sim_dipole = toast.ops.SimDipole(\n",
    "    freq=40.0 * u.GHz,\n",
    "    mode=\"total\",\n",
    ")\n",
    "sim_dipole.apply(data)"
   ]
  },
  {
   "cell_type": "markdown",
   "metadata": {},
   "source": [
    "### Fake Sky\n",
    "\n",
    "In order to avoid downloading a signal map in this notebook, we will just generate a fake synthetic sky.  This is just for visualization and has no physical meaning."
   ]
  },
  {
   "cell_type": "code",
   "execution_count": null,
   "metadata": {},
   "outputs": [],
   "source": [
    "lmax = 2 * det_pixels.nside\n",
    "cl = np.zeros(4 * (lmax + 1)).reshape([4, -1])\n",
    "cl[0, :] = 1.0e-9 * np.ones(lmax + 1)\n",
    "cl[1, :] = 1.0e-10 * np.ones(lmax + 1)\n",
    "cl[2, :] = 1.0e-11 * np.ones(lmax + 1)\n",
    "fake_I, fake_Q, fake_U = hp.synfast(\n",
    "    cl,\n",
    "    det_pixels.nside,\n",
    "    pol=True,\n",
    "    lmax=lmax,\n",
    "    fwhm=np.radians(3.0),\n",
    "    verbose=False,\n",
    ")\n",
    "\n",
    "fake_sky_file = \"fake_input_sky.fits\"\n",
    "hp.write_map(fake_sky_file, [fake_I, fake_Q, fake_U])\n",
    "\n",
    "hp.mollview(fake_I, title=\"Fake Sky I\", cmap=\"inferno\")\n",
    "hp.mollview(fake_Q, title=\"Fake Sky Q\", cmap=\"inferno\")\n",
    "hp.mollview(fake_U, title=\"Fake Sky U\", cmap=\"inferno\")\n"
   ]
  },
  {
   "cell_type": "code",
   "execution_count": null,
   "metadata": {},
   "outputs": [],
   "source": [
    "# Now scan this into a map\n",
    "sim_map_scan = toast.ops.ScanHealpixMap(\n",
    "    file=fake_sky_file,\n",
    "    pixel_pointing=det_pixels,\n",
    "    stokes_weights=det_weights,\n",
    ")\n",
    "sim_map_scan.apply(data)"
   ]
  },
  {
   "cell_type": "markdown",
   "metadata": {},
   "source": [
    "### Instrumental Noise\n",
    "\n",
    "For this small example, we are just simulating per-detector 1/f noise from the nominal noise model, but we could also simulate correlated noise by creating a suitable `Noise` object for each observation that had a mixing matrix describing the correlations."
   ]
  },
  {
   "cell_type": "code",
   "execution_count": null,
   "metadata": {},
   "outputs": [],
   "source": [
    "sim_noise = toast.ops.SimNoise(\n",
    "    noise_model=default_model.noise_model,\n",
    ")\n",
    "sim_noise.apply(data)"
   ]
  },
  {
   "cell_type": "markdown",
   "metadata": {},
   "source": [
    "### Saving Data\n",
    "\n",
    "If we want to save this simulated data for later we can do that now.  Here we use the TOAST native HDF5 format with FLAC compression for the detector signal and gzip for the flags."
   ]
  },
  {
   "cell_type": "code",
   "execution_count": null,
   "metadata": {},
   "outputs": [],
   "source": [
    "hdf5_volume = \"data\"\n",
    "\n",
    "save_hdf5 = toast.ops.SaveHDF5(\n",
    "    volume=hdf5_volume,\n",
    "    detdata=[\n",
    "        (sim_obs.det_data, {\"type\": \"flac\"}),\n",
    "        (sim_obs.det_flags, {\"type\": \"gzip\"}),\n",
    "    ]\n",
    ")\n",
    "\n",
    "save_hdf5.apply(data)"
   ]
  },
  {
   "cell_type": "markdown",
   "metadata": {},
   "source": [
    "# Data Exploration\n",
    "\n",
    "You can directly access / modify / plot data stored within the TOAST containers.  Each `Observation` is independent, so for this exercise we can look at just the first observation."
   ]
  },
  {
   "cell_type": "code",
   "execution_count": null,
   "metadata": {},
   "outputs": [],
   "source": [
    "first_ob = data.obs[0]\n",
    "print(first_ob)"
   ]
  },
  {
   "cell_type": "markdown",
   "metadata": {},
   "source": [
    "In the last cell you can see that the `Observation` has several \"shared\" data fields containing the pointing information and some other empty types of data \"detdata\" and \"intervals\".  We can just print these like a numpy array:"
   ]
  },
  {
   "cell_type": "code",
   "execution_count": null,
   "metadata": {},
   "outputs": [],
   "source": [
    "print(first_ob.shared[\"times\"])"
   ]
  },
  {
   "cell_type": "markdown",
   "metadata": {},
   "source": [
    "You can see that the \"shared\" data buffers are a special kind of array that (if MPI is being used) have only a single copy on each compute node.  You can access individual elements with normal slice notation, or you can get a numpy array view by accessing the `.data` attribute.  For example we can plot them:"
   ]
  },
  {
   "cell_type": "code",
   "execution_count": null,
   "metadata": {},
   "outputs": [],
   "source": [
    "# Plot HWP angle vs time for the first observation\n",
    "times = first_ob.shared[\"times\"]\n",
    "hwp = first_ob.shared[\"hwp_angle\"]\n",
    "\n",
    "fig = plt.figure()\n",
    "ax = fig.add_subplot(111)\n",
    "\n",
    "ax.plot(times.data[:100], hwp.data[:100])\n",
    "\n",
    "plt.show()"
   ]
  },
  {
   "cell_type": "markdown",
   "metadata": {},
   "source": [
    "The `detdata` attribute of an observation contains just the local data on each process, so you can read and write to these arrays.  The named keys in this `detdata` dictionary allow us to access the data by detector name, detector index, or sample range:"
   ]
  },
  {
   "cell_type": "code",
   "execution_count": null,
   "metadata": {},
   "outputs": [],
   "source": [
    "signal = first_ob.detdata[\"signal\"]"
   ]
  },
  {
   "cell_type": "code",
   "execution_count": null,
   "metadata": {},
   "outputs": [],
   "source": [
    "print(signal[\"000_000_003_QA_040_B\"])"
   ]
  },
  {
   "cell_type": "code",
   "execution_count": null,
   "metadata": {},
   "outputs": [],
   "source": [
    "print(signal[[\"000_000_003_QA_040_B\", \"000_000_003_QA_040_T\"], 0:4])"
   ]
  },
  {
   "cell_type": "code",
   "execution_count": null,
   "metadata": {},
   "outputs": [],
   "source": [
    "# The whole thing...\n",
    "print(signal[:, :])"
   ]
  },
  {
   "cell_type": "markdown",
   "metadata": {},
   "source": [
    "You can plot some detector data relative to the timestamps, for example:"
   ]
  },
  {
   "cell_type": "code",
   "execution_count": null,
   "metadata": {},
   "outputs": [],
   "source": [
    "fig = plt.figure()\n",
    "ax = fig.add_subplot(111)\n",
    "\n",
    "ax.plot(\n",
    "    times.data, \n",
    "    signal[\"000_000_003_QA_040_B\"],\n",
    ")\n",
    "\n",
    "ax.plot(\n",
    "    times.data, \n",
    "    signal[\"000_000_003_QA_040_T\"],\n",
    ")\n",
    "\n",
    "plt.show()"
   ]
  },
  {
   "cell_type": "markdown",
   "metadata": {},
   "source": [
    "The `Observation` class also gives us access to the focalplane properties for this observation:"
   ]
  },
  {
   "cell_type": "code",
   "execution_count": null,
   "metadata": {},
   "outputs": [],
   "source": [
    "# The telescope for this observation\n",
    "print(first_ob.telescope)"
   ]
  },
  {
   "cell_type": "code",
   "execution_count": null,
   "metadata": {},
   "outputs": [],
   "source": [
    "# The focalplane\n",
    "print(first_ob.telescope.focalplane)"
   ]
  },
  {
   "cell_type": "code",
   "execution_count": null,
   "metadata": {},
   "outputs": [],
   "source": [
    "# The Table of detector properties\n",
    "print(first_ob.telescope.focalplane.detector_data.info)\n",
    "print(first_ob.telescope.focalplane.detector_data)"
   ]
  },
  {
   "cell_type": "markdown",
   "metadata": {},
   "source": [
    "### Interactive Visualization\n",
    "\n",
    "The next line launches an interactive ipython widget.  If you are running the whole notebook at once, comment out this line, since it will cause the kernel to run forever."
   ]
  },
  {
   "cell_type": "code",
   "execution_count": null,
   "metadata": {},
   "outputs": [],
   "source": [
    "# w = toast.widgets.ObservationWidget(data.obs[0])"
   ]
  },
  {
   "cell_type": "markdown",
   "metadata": {},
   "source": [
    "# Data Reduction\n",
    "\n",
    "Now we consider the previous data set and analyze this.  Here we use the data already simulated in memory, but could also load the data from disk.  For this example, we do not perform focalplane reconstruction- that is a future exercise.  We also do not demonstrate either HWP demodulation (which is supported in TOAST) or regression of HWP synchronous signal in the map-making (which is nearing completion)."
   ]
  },
  {
   "cell_type": "markdown",
   "metadata": {},
   "source": [
    "## Noise Estimation\n",
    "\n",
    "Here we estimate the noise assuming that the timestreams are noise dominated and fit those estimates to a 1/f model.  In practice, since we have not removed the dipole, we expect this to show up as a large additional 1/f model."
   ]
  },
  {
   "cell_type": "code",
   "execution_count": null,
   "metadata": {},
   "outputs": [],
   "source": [
    "noise_estim = toast.ops.NoiseEstim(\n",
    "    out_model=\"noise_est\",\n",
    "    lagmax=2048,\n",
    "    nbin_psd=64,\n",
    "    nsum=1,\n",
    "    naverage=128,\n",
    ")\n",
    "noise_estim.apply(data)"
   ]
  },
  {
   "cell_type": "code",
   "execution_count": null,
   "metadata": {},
   "outputs": [],
   "source": [
    "noise_fit = toast.ops.FitNoiseModel(\n",
    "    noise_model=noise_estim.out_model,\n",
    "    out_model=\"fit_noise\",\n",
    "    least_squares_ftol=None,\n",
    "    least_squares_xtol=1.0e-12,\n",
    "    least_squares_gtol=None,\n",
    ")\n",
    "noise_fit.apply(data)"
   ]
  },
  {
   "cell_type": "markdown",
   "metadata": {},
   "source": [
    "Plot the noise estimate and fit for a couple detectors within one observation.  Note the large 1/f due to the un-removed dipole."
   ]
  },
  {
   "cell_type": "code",
   "execution_count": null,
   "metadata": {},
   "outputs": [],
   "source": [
    "sim_noise = first_ob[default_model.noise_model]\n",
    "est_noise = first_ob[noise_estim.out_model]\n",
    "fit_noise = first_ob[noise_fit.out_model]\n",
    "\n",
    "for idet in range(2):\n",
    "    det_name = first_ob.local_detectors[idet]\n",
    "    toast.vis.plot_noise_estim(\n",
    "        None,\n",
    "        est_noise.freq(det_name),\n",
    "        est_noise.psd(det_name),\n",
    "        fit_freq=fit_noise.freq(det_name),\n",
    "        fit_psd=fit_noise.psd(det_name),\n",
    "        true_net=sim_noise.NET(det_name),\n",
    "        true_freq=sim_noise.freq(det_name),\n",
    "        true_psd=sim_noise.psd(det_name),\n",
    "        semilog=False,\n",
    "    )"
   ]
  },
  {
   "cell_type": "markdown",
   "metadata": {},
   "source": [
    "## Map Making\n",
    "\n",
    "Next we will make a basic map using a single regression template representing baseline offsets."
   ]
  },
  {
   "cell_type": "code",
   "execution_count": null,
   "metadata": {},
   "outputs": [],
   "source": [
    "# Use a single Offset template (destriping baselines)\n",
    "baselines = toast.templates.Offset(\n",
    "    noise_model=noise_fit.out_model,\n",
    "    step_time=1.0 * u.second,\n",
    ")"
   ]
  },
  {
   "cell_type": "code",
   "execution_count": null,
   "metadata": {},
   "outputs": [],
   "source": [
    "# Template matrix with these templates\n",
    "tmatrix = toast.ops.TemplateMatrix(\n",
    "    templates=[baselines],\n",
    ")"
   ]
  },
  {
   "cell_type": "code",
   "execution_count": null,
   "metadata": {},
   "outputs": [],
   "source": [
    "# Binning operator\n",
    "binner = toast.ops.BinMap(\n",
    "    pixel_pointing=det_pixels,\n",
    "    stokes_weights=det_weights,\n",
    "    noise_model=noise_fit.out_model,\n",
    ")"
   ]
  },
  {
   "cell_type": "code",
   "execution_count": null,
   "metadata": {},
   "outputs": [],
   "source": [
    "# Optionally save full detector pointing.  This speeds up the mapmaking dramatically,\n",
    "# but results in a 5x increase in memory.\n",
    "binner.full_pointing = True"
   ]
  },
  {
   "cell_type": "code",
   "execution_count": null,
   "metadata": {},
   "outputs": [],
   "source": [
    "out_dir = \"maps\"\n",
    "if not os.path.isdir(out_dir):\n",
    "    os.makedirs(out_dir)\n",
    "\n",
    "mapper = toast.ops.MapMaker(\n",
    "    binning=binner,\n",
    "    template_matrix=tmatrix,\n",
    "    solve_rcond_threshold=1e-3,\n",
    "    map_rcond_threshold=1e-3,\n",
    "    iter_min=40,\n",
    "    iter_max=100,\n",
    "    write_hits=True,\n",
    "    write_map=True,\n",
    "    write_binmap=True,\n",
    "    write_cov=True,\n",
    "    output_dir=out_dir,\n",
    ")"
   ]
  },
  {
   "cell_type": "code",
   "execution_count": null,
   "metadata": {},
   "outputs": [],
   "source": [
    "mapper.apply(data)"
   ]
  },
  {
   "cell_type": "markdown",
   "metadata": {},
   "source": [
    "Now plot the output maps and residual compared to the input fake sky:"
   ]
  },
  {
   "cell_type": "code",
   "execution_count": null,
   "metadata": {},
   "outputs": [],
   "source": [
    "mapfile_root = os.path.join(mapper.output_dir, mapper.name)\n",
    "\n",
    "hits = hp.read_map(\n",
    "    f\"{mapfile_root}_hits.fits\", \n",
    "    dtype=np.int32\n",
    ")\n",
    "hp.mollview(hits, title=\"Solved Map Hits\", cmap=\"inferno\", min=0, max=1000)\n",
    "\n",
    "Imap, Qmap, Umap = hp.read_map(\n",
    "    f\"{mapfile_root}_map.fits\", \n",
    "    field=None\n",
    ")\n",
    "\n",
    "hit_pix = hits > 0\n",
    "unhit_pix = np.logical_not(hit_pix)\n",
    "Imap[unhit_pix] = hp.UNSEEN\n",
    "Qmap[unhit_pix] = hp.UNSEEN\n",
    "Umap[unhit_pix] = hp.UNSEEN\n",
    "\n",
    "I_range = 0.005\n",
    "P_range = 0.0002\n",
    "hp.mollview(Imap, title=\"Solved Map Stokes I\", cmap=\"inferno\", min=-I_range, max=I_range)\n",
    "hp.mollview(Qmap, title=\"Solved Map Stokes Q\", cmap=\"inferno\", min=-P_range, max=P_range)\n",
    "hp.mollview(Umap, title=\"Solved Map Stokes U\", cmap=\"inferno\", min=-P_range, max=P_range)"
   ]
  },
  {
   "cell_type": "code",
   "execution_count": null,
   "metadata": {},
   "outputs": [],
   "source": [
    "# Plot the residual\n",
    "Idiff = Imap - fake_I\n",
    "Qdiff = Qmap - fake_Q\n",
    "Udiff = Umap - fake_U\n",
    "Idiff[unhit_pix] = hp.UNSEEN\n",
    "Qdiff[unhit_pix] = hp.UNSEEN\n",
    "Udiff[unhit_pix] = hp.UNSEEN\n",
    "\n",
    "hp.mollview(Idiff, title=\"Solved Minus Input Stokes I\", cmap=\"inferno\", min=-I_range, max=I_range)\n",
    "hp.mollview(Qdiff, title=\"Solved Minus Input Stokes Q\", cmap=\"inferno\", min=-P_range, max=P_range)\n",
    "hp.mollview(Udiff, title=\"Solved Minus Input Stokes U\", cmap=\"inferno\", min=-P_range, max=P_range)"
   ]
  },
  {
   "cell_type": "code",
   "execution_count": null,
   "metadata": {},
   "outputs": [],
   "source": []
  }
 ],
 "metadata": {
  "kernelspec": {
   "display_name": "Python 3 (ipykernel)",
   "language": "python",
   "name": "python3"
  },
  "language_info": {
   "codemirror_mode": {
    "name": "ipython",
    "version": 3
   },
   "file_extension": ".py",
   "mimetype": "text/x-python",
   "name": "python",
   "nbconvert_exporter": "python",
   "pygments_lexer": "ipython3",
   "version": "3.10.12"
  }
 },
 "nbformat": 4,
 "nbformat_minor": 4
}
